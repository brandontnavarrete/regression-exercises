{
 "cells": [
  {
   "cell_type": "markdown",
   "id": "a7eb972c",
   "metadata": {},
   "source": [
    "# A WORKING NOTEBOOK TO PRACTICE MY ACQUIRE FUNCTION"
   ]
  },
  {
   "cell_type": "code",
   "execution_count": null,
   "id": "eaf37b5b",
   "metadata": {},
   "outputs": [],
   "source": [
    "# imports needed to make my functions work properly"
   ]
  },
  {
   "cell_type": "code",
   "execution_count": 1,
   "id": "a034a1bc",
   "metadata": {},
   "outputs": [],
   "source": [
    "import os\n",
    "import pandas as pd \n",
    "import numpy as np\n",
    "\n",
    "# import re\n",
    "\n",
    "# from sklearn.model_selection import train_test_split\n",
    "# import sklearn.preprocessing\n",
    "\n",
    "# sql ace credentials\n",
    "import env"
   ]
  },
  {
   "cell_type": "code",
   "execution_count": 3,
   "id": "be5b64a9",
   "metadata": {},
   "outputs": [],
   "source": [
    "# setting connectiong to sequel server using env\n",
    "\n",
    "def get_connection(db, user=env.username, host=env.host, password=env.password):\n",
    "    return f'mysql+pymysql://{user}:{password}@{host}/{db}'\n",
    "\n",
    "\n",
    "#----------------------------------------------\n",
    " \n",
    "# acquiring zillow data using a get_connection\n",
    "\n",
    "def get_zillow_data(get_connection):\n",
    "    filename = \"zillow.csv\"\n",
    "    \n",
    "    # if the file already exist , return it. if not, then continue down the line.\n",
    "    if os.path.isfile(filename):\n",
    "        return pd.read_csv(filename, index_col = 0)\n",
    "    \n",
    "    else:\n",
    "        \n",
    "    # read the SQL query into a dataframe\n",
    "        df = pd.read_sql(\n",
    "        '''\n",
    "          select \n",
    "          bedroomcnt,\n",
    "          bathroomcnt, calculatedfinishedsquarefeet,\n",
    "          taxvaluedollarcnt,\n",
    "          yearbuilt,\n",
    "          taxamount,\n",
    "          fips\n",
    "          from properties_2017 \n",
    "        ''', get_connection('zillow'))\n",
    "        \n",
    "        return df\n"
   ]
  }
 ],
 "metadata": {
  "kernelspec": {
   "display_name": "Python 3 (ipykernel)",
   "language": "python",
   "name": "python3"
  },
  "language_info": {
   "codemirror_mode": {
    "name": "ipython",
    "version": 3
   },
   "file_extension": ".py",
   "mimetype": "text/x-python",
   "name": "python",
   "nbconvert_exporter": "python",
   "pygments_lexer": "ipython3",
   "version": "3.9.13"
  },
  "toc": {
   "base_numbering": 1,
   "nav_menu": {},
   "number_sections": true,
   "sideBar": true,
   "skip_h1_title": false,
   "title_cell": "Table of Contents",
   "title_sidebar": "Contents",
   "toc_cell": false,
   "toc_position": {},
   "toc_section_display": true,
   "toc_window_display": false
  }
 },
 "nbformat": 4,
 "nbformat_minor": 5
}
