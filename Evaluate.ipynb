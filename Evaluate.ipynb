{
 "cells": [
  {
   "cell_type": "code",
   "execution_count": 214,
   "id": "bc006668",
   "metadata": {},
   "outputs": [],
   "source": [
    "# imports\n",
    "import os\n",
    "import pandas as pd \n",
    "import numpy as np\n",
    "import seaborn as sns\n",
    "import matplotlib.pyplot as plt\n",
    "import plotly\n",
    "import scipy.stats as stats\n",
    "import statistics as s\n",
    "\n",
    "# for chart image\n",
    "from IPython.display import Image\n",
    "\n",
    "# import re\n",
    "\n",
    "\n",
    "from sklearn.model_selection import train_test_split\n",
    "from sklearn.preprocessing import MinMaxScaler\n",
    "from sklearn.linear_model import LinearRegression\n",
    "\n",
    "\n",
    "#sse\n",
    "from sklearn.metrics import mean_squared_error, r2_score, explained_variance_score\n",
    "\n",
    "\n",
    "# sql ace credentials\n",
    "import env\n",
    "import wrangle as wr\n",
    "import seaborn as sns\n",
    "import explore as ex\n"
   ]
  },
  {
   "cell_type": "markdown",
   "id": "43c6c74f",
   "metadata": {},
   "source": [
    "# load zillow data"
   ]
  },
  {
   "cell_type": "code",
   "execution_count": 230,
   "id": "ace3aa9d",
   "metadata": {},
   "outputs": [],
   "source": [
    "df = wr.wrangle_zillow()"
   ]
  },
  {
   "cell_type": "code",
   "execution_count": 231,
   "id": "9e366515",
   "metadata": {},
   "outputs": [
    {
     "data": {
      "text/html": [
       "<div>\n",
       "<style scoped>\n",
       "    .dataframe tbody tr th:only-of-type {\n",
       "        vertical-align: middle;\n",
       "    }\n",
       "\n",
       "    .dataframe tbody tr th {\n",
       "        vertical-align: top;\n",
       "    }\n",
       "\n",
       "    .dataframe thead th {\n",
       "        text-align: right;\n",
       "    }\n",
       "</style>\n",
       "<table border=\"1\" class=\"dataframe\">\n",
       "  <thead>\n",
       "    <tr style=\"text-align: right;\">\n",
       "      <th></th>\n",
       "      <th>bedrooms</th>\n",
       "      <th>bathrooms</th>\n",
       "      <th>sq_feet</th>\n",
       "      <th>tax_value</th>\n",
       "      <th>year_built</th>\n",
       "      <th>tax_amount</th>\n",
       "      <th>fips</th>\n",
       "    </tr>\n",
       "  </thead>\n",
       "  <tbody>\n",
       "    <tr>\n",
       "      <th>0</th>\n",
       "      <td>4</td>\n",
       "      <td>2.0</td>\n",
       "      <td>3633</td>\n",
       "      <td>296425</td>\n",
       "      <td>2005</td>\n",
       "      <td>6941.39</td>\n",
       "      <td>6037</td>\n",
       "    </tr>\n",
       "  </tbody>\n",
       "</table>\n",
       "</div>"
      ],
      "text/plain": [
       "   bedrooms  bathrooms  sq_feet  tax_value  year_built  tax_amount  fips\n",
       "0         4        2.0     3633     296425        2005     6941.39  6037"
      ]
     },
     "execution_count": 231,
     "metadata": {},
     "output_type": "execute_result"
    }
   ],
   "source": [
    "df.head(1)"
   ]
  },
  {
   "cell_type": "code",
   "execution_count": 232,
   "id": "a9380c25",
   "metadata": {},
   "outputs": [
    {
     "name": "stdout",
     "output_type": "stream",
     "text": [
      "(1172920, 7) (502681, 7) (418901, 7)\n"
     ]
    }
   ],
   "source": [
    "train, val, test = wr.split_data(df)"
   ]
  },
  {
   "cell_type": "code",
   "execution_count": 222,
   "id": "8366ea63",
   "metadata": {},
   "outputs": [],
   "source": []
  },
  {
   "cell_type": "markdown",
   "id": "81d9a62e",
   "metadata": {},
   "source": [
    "# Fit a linear regression model (ordinary least squares) and compute yhat, predictions of taxvaluedollarcnt using only calculatedfinishedsqft."
   ]
  },
  {
   "cell_type": "code",
   "execution_count": 233,
   "id": "14fb39b1",
   "metadata": {},
   "outputs": [],
   "source": [
    "train = train.drop(columns= ['bedrooms','bathrooms','year_built','tax_amount','fips'])"
   ]
  },
  {
   "cell_type": "code",
   "execution_count": 234,
   "id": "442b91d8",
   "metadata": {},
   "outputs": [],
   "source": [
    "mms = MinMaxScaler()"
   ]
  },
  {
   "cell_type": "code",
   "execution_count": 235,
   "id": "a285e532",
   "metadata": {},
   "outputs": [],
   "source": [
    "train['sq_feet']= mms.fit_transform(train[['sq_feet']])"
   ]
  },
  {
   "cell_type": "code",
   "execution_count": 237,
   "id": "8daa947a",
   "metadata": {},
   "outputs": [],
   "source": [
    "#split into my X_train and y_train\n",
    "x_train = train[['sq_feet']]\n",
    "y_train = train.tax_value\n",
    "\n",
    "x_validate = val[['sq_feet']]\n",
    "y_validate = val.tax_value\n",
    "\n",
    "x_test = test[['sq_feet']]\n",
    "y_test = test.tax_value"
   ]
  },
  {
   "cell_type": "code",
   "execution_count": 239,
   "id": "cc591843",
   "metadata": {},
   "outputs": [
    {
     "data": {
      "text/html": [
       "<div>\n",
       "<style scoped>\n",
       "    .dataframe tbody tr th:only-of-type {\n",
       "        vertical-align: middle;\n",
       "    }\n",
       "\n",
       "    .dataframe tbody tr th {\n",
       "        vertical-align: top;\n",
       "    }\n",
       "\n",
       "    .dataframe thead th {\n",
       "        text-align: right;\n",
       "    }\n",
       "</style>\n",
       "<table border=\"1\" class=\"dataframe\">\n",
       "  <thead>\n",
       "    <tr style=\"text-align: right;\">\n",
       "      <th></th>\n",
       "      <th>sq_feet</th>\n",
       "    </tr>\n",
       "  </thead>\n",
       "  <tbody>\n",
       "    <tr>\n",
       "      <th>1794917</th>\n",
       "      <td>0.181509</td>\n",
       "    </tr>\n",
       "    <tr>\n",
       "      <th>1989455</th>\n",
       "      <td>0.256854</td>\n",
       "    </tr>\n",
       "    <tr>\n",
       "      <th>312790</th>\n",
       "      <td>0.128530</td>\n",
       "    </tr>\n",
       "    <tr>\n",
       "      <th>694637</th>\n",
       "      <td>0.282004</td>\n",
       "    </tr>\n",
       "    <tr>\n",
       "      <th>1704331</th>\n",
       "      <td>0.115646</td>\n",
       "    </tr>\n",
       "  </tbody>\n",
       "</table>\n",
       "</div>"
      ],
      "text/plain": [
       "          sq_feet\n",
       "1794917  0.181509\n",
       "1989455  0.256854\n",
       "312790   0.128530\n",
       "694637   0.282004\n",
       "1704331  0.115646"
      ]
     },
     "execution_count": 239,
     "metadata": {},
     "output_type": "execute_result"
    }
   ],
   "source": [
    "x_train.head(5)"
   ]
  },
  {
   "cell_type": "code",
   "execution_count": 246,
   "id": "a59f7e3b",
   "metadata": {},
   "outputs": [],
   "source": [
    "# create model\n",
    "model = LinearRegression().fit(x_train,y_train)\n",
    "train['yhat'] = model.predict(x_train)"
   ]
  },
  {
   "cell_type": "markdown",
   "id": "ea30d2e3",
   "metadata": {},
   "source": [
    "# plot the residuals for the linear regression model that you made."
   ]
  },
  {
   "cell_type": "code",
   "execution_count": 249,
   "id": "d7564c87",
   "metadata": {},
   "outputs": [],
   "source": [
    "train['residuals'] = train['tax_value'] - train['yhat']"
   ]
  },
  {
   "cell_type": "code",
   "execution_count": 253,
   "id": "92d1913a",
   "metadata": {},
   "outputs": [
    {
     "data": {
      "image/png": "[encoded data removed]",
      "text/plain": [
       "<Figure size 640x480 with 1 Axes>"
      ]
     },
     "metadata": {},
     "output_type": "display_data"
    }
   ],
   "source": [
    "sns.regplot(data = train.sample(10000),x = 'tax_value',y ='residuals')\n",
    "\n",
    "plt.xlabel('Tax Value')\n",
    "plt.ylabel('Residuals')\n",
    "plt.title('Residual vs Tax Talue Plot')\n",
    "plt.show()\n"
   ]
  },
  {
   "cell_type": "markdown",
   "id": "aae8e8e6",
   "metadata": {},
   "source": [
    "# Calculate the sum of squared errors, explained sum of squares, total sum of squares, mean squared error, and root mean squared error for your model."
   ]
  },
  {
   "cell_type": "markdown",
   "id": "421ca42b",
   "metadata": {},
   "source": [
    "## MSE"
   ]
  },
  {
   "cell_type": "code",
   "execution_count": 259,
   "id": "247ba592",
   "metadata": {},
   "outputs": [
    {
     "name": "stdout",
     "output_type": "stream",
     "text": [
      "mse = 64291873417.61123\n"
     ]
    }
   ],
   "source": [
    "mse = mean_squared_error(train.tax_value,train.yhat)\n",
    "print(f'mse = {mse}')"
   ]
  },
  {
   "cell_type": "markdown",
   "id": "fffcd2b7",
   "metadata": {},
   "source": [
    "## SSE"
   ]
  },
  {
   "cell_type": "code",
   "execution_count": 262,
   "id": "2f874d40",
   "metadata": {},
   "outputs": [
    {
     "name": "stdout",
     "output_type": "stream",
     "text": [
      "sse = 7.540922416898456e+16\n"
     ]
    }
   ],
   "source": [
    "sse = mse * len(train)\n",
    "print(f'sse = {sse}')"
   ]
  },
  {
   "cell_type": "markdown",
   "id": "7ee7b42a",
   "metadata": {},
   "source": [
    "## RMSE "
   ]
  },
  {
   "cell_type": "code",
   "execution_count": 263,
   "id": "96d11741",
   "metadata": {},
   "outputs": [
    {
     "name": "stdout",
     "output_type": "stream",
     "text": [
      "rmse = 253558.4220995454\n"
     ]
    }
   ],
   "source": [
    "rmse = sqrt(mse)\n",
    "print(f'rmse = {rmse}')"
   ]
  },
  {
   "cell_type": "markdown",
   "id": "e4a4fdd8",
   "metadata": {},
   "source": [
    "## ESS"
   ]
  },
  {
   "cell_type": "code",
   "execution_count": 265,
   "id": "154211a8",
   "metadata": {},
   "outputs": [
    {
     "name": "stdout",
     "output_type": "stream",
     "text": [
      "ess = 3.972616479338296e+16\n"
     ]
    }
   ],
   "source": [
    "ess = ((train['yhat'] - train['tax_value'].mean())**2).sum()\n",
    "print(f'ess = {ess}')"
   ]
  },
  {
   "cell_type": "markdown",
   "id": "2484cfb3",
   "metadata": {},
   "source": [
    "## TSS"
   ]
  },
  {
   "cell_type": "code",
   "execution_count": 267,
   "id": "2258efb0",
   "metadata": {},
   "outputs": [
    {
     "name": "stdout",
     "output_type": "stream",
     "text": [
      "tss = 1.1513538896236752e+17\n"
     ]
    }
   ],
   "source": [
    "tss = ess + sse\n",
    "print(f'tss = {tss}')"
   ]
  },
  {
   "cell_type": "markdown",
   "id": "6611ff6a",
   "metadata": {},
   "source": [
    "# Calculate the sum of squared errors, mean squared error, and root mean squared error for the baseline model (i.e. a model that always predicts the average taxvaluedollarcnt amount)."
   ]
  },
  {
   "cell_type": "code",
   "execution_count": 268,
   "id": "4905e488",
   "metadata": {},
   "outputs": [],
   "source": [
    "train['baseline'] = train.tax_value.mean()"
   ]
  },
  {
   "cell_type": "markdown",
   "id": "38dbb021",
   "metadata": {},
   "source": [
    "## mse baseline"
   ]
  },
  {
   "cell_type": "code",
   "execution_count": 270,
   "id": "05d45085",
   "metadata": {},
   "outputs": [
    {
     "name": "stdout",
     "output_type": "stream",
     "text": [
      "mse_baseline = 98161331516.52928\n"
     ]
    }
   ],
   "source": [
    "mse_baseline = mean_squared_error(train.tax_value, train.baseline)\n",
    "print(f'mse_baseline = {mse_baseline}')"
   ]
  },
  {
   "cell_type": "markdown",
   "id": "1a6c6c35",
   "metadata": {},
   "source": [
    "## sse baseline"
   ]
  },
  {
   "cell_type": "code",
   "execution_count": 272,
   "id": "7677a527",
   "metadata": {},
   "outputs": [
    {
     "name": "stdout",
     "output_type": "stream",
     "text": [
      "sse_baseline = 1.1513538896236752e+17\n"
     ]
    }
   ],
   "source": [
    "sse_baseline = mse_baseline * len(train)\n",
    "print(f'sse_baseline = {sse_baseline}')"
   ]
  },
  {
   "cell_type": "markdown",
   "id": "28888cfe",
   "metadata": {},
   "source": [
    "## rsme baseline"
   ]
  },
  {
   "cell_type": "code",
   "execution_count": 274,
   "id": "0f39f7f8",
   "metadata": {},
   "outputs": [
    {
     "name": "stdout",
     "output_type": "stream",
     "text": [
      "rsme_baseline = 313307.08820026607\n"
     ]
    }
   ],
   "source": [
    "rsme_baseline = sqrt(mse_baseline)\n",
    "print(f'rsme_baseline = {rsme_baseline}')"
   ]
  },
  {
   "cell_type": "markdown",
   "id": "ffa60145",
   "metadata": {},
   "source": [
    "# Write python code that compares the sum of squared errors for your model against the sum of squared errors for the baseline model and outputs whether or not your model performs better than the baseline model."
   ]
  },
  {
   "cell_type": "code",
   "execution_count": 277,
   "id": "8d36b8f0",
   "metadata": {},
   "outputs": [
    {
     "name": "stdout",
     "output_type": "stream",
     "text": [
      "My model performs better than baseline\n"
     ]
    }
   ],
   "source": [
    "if sse < sse_baseline:\n",
    "    print('My model performs better than baseline')\n",
    "else:\n",
    "    print('My model performs worse than baseline')"
   ]
  },
  {
   "cell_type": "markdown",
   "id": "8f3fd257",
   "metadata": {},
   "source": [
    "# What is the amount of variance explained in your model?"
   ]
  },
  {
   "cell_type": "code",
   "execution_count": 282,
   "id": "37e3eb8b",
   "metadata": {},
   "outputs": [
    {
     "name": "stdout",
     "output_type": "stream",
     "text": [
      "r2 = 0.3450386987997897\n"
     ]
    }
   ],
   "source": [
    "r2 = ess/tss\n",
    "print(f'r2 = {r2}')"
   ]
  },
  {
   "cell_type": "markdown",
   "id": "2fdc5f9c",
   "metadata": {},
   "source": [
    "# Is your model better than the baseline model?"
   ]
  },
  {
   "cell_type": "code",
   "execution_count": 285,
   "id": "bb97de65",
   "metadata": {},
   "outputs": [
    {
     "name": "stdout",
     "output_type": "stream",
     "text": [
      "  metric   model_error\n",
      "0    sse  7.540922e+16\n",
      "1    mse  6.429187e+10\n",
      "2   rmse  2.535584e+05\n",
      "          metric   model_error\n",
      "0   sse_baseline  1.151354e+17\n",
      "1   mse_baseline  9.816133e+10\n",
      "2  rmse_baseline  5.029797e+05\n"
     ]
    }
   ],
   "source": [
    "df_eval = pd.DataFrame(np.array(['sse','mse','rmse']), columns=['metric'])\n",
    "df_baseline_eval = pd.DataFrame(np.array(['sse_baseline','mse_baseline','rmse_baseline']), columns=['metric'])\n",
    "\n",
    "df_eval['model_error'] = np.array([sse, mse, rmse])\n",
    "df_baseline_eval['model_error'] = np.array([sse_baseline, mse_baseline, rmse_baseline])\n",
    "\n",
    "print(df_eval)\n",
    "print(df_baseline_eval)"
   ]
  },
  {
   "cell_type": "code",
   "execution_count": 294,
   "id": "0dd6eac0",
   "metadata": {},
   "outputs": [],
   "source": [
    "eval = pd.DataFrame(np.array(['RSME']), columns=['metric'])\n",
    "eval['model'] = pd.DataFrame(np.array([rmse]), columns=['yhat'])\n",
    "eval['baseline'] = pd.DataFrame(np.array([rmse_baseline]), columns=['yhat'])\n"
   ]
  },
  {
   "cell_type": "code",
   "execution_count": 297,
   "id": "c8e8e771",
   "metadata": {},
   "outputs": [
    {
     "data": {
      "text/html": [
       "<div>\n",
       "<style scoped>\n",
       "    .dataframe tbody tr th:only-of-type {\n",
       "        vertical-align: middle;\n",
       "    }\n",
       "\n",
       "    .dataframe tbody tr th {\n",
       "        vertical-align: top;\n",
       "    }\n",
       "\n",
       "    .dataframe thead th {\n",
       "        text-align: right;\n",
       "    }\n",
       "</style>\n",
       "<table border=\"1\" class=\"dataframe\">\n",
       "  <thead>\n",
       "    <tr style=\"text-align: right;\">\n",
       "      <th></th>\n",
       "      <th>metric</th>\n",
       "      <th>model</th>\n",
       "      <th>baseline</th>\n",
       "      <th>difference</th>\n",
       "    </tr>\n",
       "  </thead>\n",
       "  <tbody>\n",
       "    <tr>\n",
       "      <th>0</th>\n",
       "      <td>RSME</td>\n",
       "      <td>253558.4221</td>\n",
       "      <td>502979.698759</td>\n",
       "      <td>249421.27666</td>\n",
       "    </tr>\n",
       "  </tbody>\n",
       "</table>\n",
       "</div>"
      ],
      "text/plain": [
       "  metric        model       baseline    difference\n",
       "0   RSME  253558.4221  502979.698759  249421.27666"
      ]
     },
     "execution_count": 297,
     "metadata": {},
     "output_type": "execute_result"
    }
   ],
   "source": [
    "eval['difference'] = rmse_baseline - rmse\n",
    "eval"
   ]
  },
  {
   "cell_type": "code",
   "execution_count": 298,
   "id": "e057a00d",
   "metadata": {},
   "outputs": [],
   "source": [
    "# Create a file named evaluate.py that contains the following functions.\n"
   ]
  },
  {
   "cell_type": "code",
   "execution_count": 301,
   "id": "1f652768",
   "metadata": {},
   "outputs": [],
   "source": [
    "def plot_residuals(y, yhat):\n",
    "    residuals = y - yhat\n",
    "    \n",
    "    plt.scatter(x=y, y=residuals)\n",
    "    plt.xlabel('Home Value')\n",
    "    plt.ylabel('Residuals')\n",
    "    plt.title('Residual vs Home Value Plot')\n",
    "    plt.show()"
   ]
  },
  {
   "cell_type": "code",
   "execution_count": 303,
   "id": "4129e644",
   "metadata": {},
   "outputs": [
    {
     "data": {
      "image/png": "[encoded data removed]",
      "text/plain": [
       "<Figure size 640x480 with 1 Axes>"
      ]
     },
     "metadata": {},
     "output_type": "display_data"
    }
   ],
   "source": [
    "plot_residuals(train['tax_value'],train['yhat'])"
   ]
  },
  {
   "cell_type": "code",
   "execution_count": 311,
   "id": "799eb5ad",
   "metadata": {},
   "outputs": [],
   "source": [
    "def regression_errors(y, yhat):\n",
    "    mse = mean_squared_error(y, yhat)\n",
    "    sse=  mse * len(y)\n",
    "    rmse = mse**.5\n",
    "    \n",
    "    ess = ((yhat - y.mean())**2).sum()\n",
    "    tss = ess + sse\n",
    "    \n",
    "    return sse, ess, tss, mse, rmse"
   ]
  },
  {
   "cell_type": "code",
   "execution_count": 305,
   "id": "087a05be",
   "metadata": {},
   "outputs": [
    {
     "data": {
      "text/plain": [
       "(7.540922416898456e+16,\n",
       " 3.972616479338296e+16,\n",
       " 1.1513538896236752e+17,\n",
       " 64291873417.61123,\n",
       " 253558.4220995454)"
      ]
     },
     "execution_count": 305,
     "metadata": {},
     "output_type": "execute_result"
    }
   ],
   "source": [
    "regression_errors(train.tax_value, train.yhat)"
   ]
  },
  {
   "cell_type": "code",
   "execution_count": 315,
   "id": "7c1067d5",
   "metadata": {},
   "outputs": [],
   "source": [
    "def baseline_mean_errors(y):\n",
    "    baseline = np.repeat(y.mean(), len(y))\n",
    "    \n",
    "    mse = mean_squared_error(y, baseline)\n",
    "    sse = mse * len(y)\n",
    "    rmse = mse **.5\n",
    "    \n",
    "    return sse, mse, rmse"
   ]
  },
  {
   "cell_type": "code",
   "execution_count": 316,
   "id": "d86a1981",
   "metadata": {},
   "outputs": [
    {
     "data": {
      "text/plain": [
       "(1.1513538896236752e+17, 98161331516.52928, 313307.08820026607)"
      ]
     },
     "execution_count": 316,
     "metadata": {},
     "output_type": "execute_result"
    }
   ],
   "source": [
    "baseline_mean_errors(train.tax_value)"
   ]
  },
  {
   "cell_type": "code",
   "execution_count": 317,
   "id": "e802ac54",
   "metadata": {},
   "outputs": [],
   "source": [
    "def better_than_baseline(y, yhat):\n",
    "    sse, ess, tss, mse, rmse = regression_errors(y, yhat)\n",
    "    \n",
    "    sse_baseline, mse_baseline, rmse_baseline = baseline_mean_errors(y)\n",
    "    \n",
    "    if sse < sse_baseline:\n",
    "        print('My model performs better than baseline')\n",
    "    else:\n",
    "        print('My model performs worse than baseline. :( )')"
   ]
  },
  {
   "cell_type": "code",
   "execution_count": 318,
   "id": "d34a2746",
   "metadata": {},
   "outputs": [
    {
     "name": "stdout",
     "output_type": "stream",
     "text": [
      "My model performs better than baseline\n"
     ]
    }
   ],
   "source": [
    "better_than_baseline(train.tax_value, train.yhat)"
   ]
  },
  {
   "cell_type": "code",
   "execution_count": null,
   "id": "6313688e",
   "metadata": {},
   "outputs": [],
   "source": []
  },
  {
   "cell_type": "code",
   "execution_count": null,
   "id": "bed439d1",
   "metadata": {},
   "outputs": [],
   "source": []
  },
  {
   "cell_type": "code",
   "execution_count": null,
   "id": "498c4165",
   "metadata": {},
   "outputs": [],
   "source": []
  },
  {
   "cell_type": "code",
   "execution_count": null,
   "id": "61870835",
   "metadata": {},
   "outputs": [],
   "source": []
  },
  {
   "cell_type": "code",
   "execution_count": null,
   "id": "cbd1aab7",
   "metadata": {},
   "outputs": [],
   "source": []
  },
  {
   "cell_type": "code",
   "execution_count": null,
   "id": "b0e692c4",
   "metadata": {},
   "outputs": [],
   "source": []
  }
 ],
 "metadata": {
  "kernelspec": {
   "display_name": "Python 3 (ipykernel)",
   "language": "python",
   "name": "python3"
  },
  "language_info": {
   "codemirror_mode": {
    "name": "ipython",
    "version": 3
   },
   "file_extension": ".py",
   "mimetype": "text/x-python",
   "name": "python",
   "nbconvert_exporter": "python",
   "pygments_lexer": "ipython3",
   "version": "3.9.13"
  },
  "toc": {
   "base_numbering": 1,
   "nav_menu": {},
   "number_sections": true,
   "sideBar": true,
   "skip_h1_title": false,
   "title_cell": "Table of Contents",
   "title_sidebar": "Contents",
   "toc_cell": false,
   "toc_position": {},
   "toc_section_display": true,
   "toc_window_display": false
  }
 },
 "nbformat": 4,
 "nbformat_minor": 5
}
