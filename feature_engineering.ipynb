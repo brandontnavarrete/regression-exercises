{
 "cells": [
  {
   "cell_type": "markdown",
   "id": "7ed83199",
   "metadata": {},
   "source": [
    "# Do your work for this exercise in a jupyter notebook named feature_engineering within the regression-exercises repo. Add, commit, and push your work."
   ]
  },
  {
   "cell_type": "code",
   "execution_count": 109,
   "id": "eca71af6",
   "metadata": {},
   "outputs": [],
   "source": [
    "# imports\n",
    "import os\n",
    "import pandas as pd \n",
    "import numpy as np\n",
    "import seaborn as sns\n",
    "import matplotlib.pyplot as plt\n",
    "import plotly\n",
    "import scipy.stats as stats\n",
    "import statistics as s\n",
    "import math \n",
    "from __future__ import division\n",
    "\n",
    "# sklearn imports\n",
    "from sklearn.feature_selection import SelectKBest, f_regression,RFE\n",
    "import sklearn.preprocessing\n",
    "from sklearn.model_selection import train_test_split\n",
    "from sklearn.preprocessing import MinMaxScaler\n",
    "from sklearn.linear_model import LinearRegression\n",
    "from sklearn.linear_model import LinearRegression\n",
    "\n",
    "#sse\n",
    "from sklearn.metrics import mean_squared_error, r2_score, explained_variance_score\n",
    "\n",
    "\n",
    "# sql ace credentials\n",
    "import env\n",
    "import wrangle as wr\n",
    "import seaborn as sns\n",
    "import explore as ex "
   ]
  },
  {
   "cell_type": "code",
   "execution_count": null,
   "id": "a2706672",
   "metadata": {},
   "outputs": [],
   "source": []
  },
  {
   "cell_type": "markdown",
   "id": "0d942974",
   "metadata": {},
   "source": [
    "# Load the tips dataset."
   ]
  },
  {
   "cell_type": "code",
   "execution_count": 79,
   "id": "9d48178c",
   "metadata": {
    "scrolled": true
   },
   "outputs": [
    {
     "data": {
      "text/html": [
       "<div>\n",
       "<style scoped>\n",
       "    .dataframe tbody tr th:only-of-type {\n",
       "        vertical-align: middle;\n",
       "    }\n",
       "\n",
       "    .dataframe tbody tr th {\n",
       "        vertical-align: top;\n",
       "    }\n",
       "\n",
       "    .dataframe thead th {\n",
       "        text-align: right;\n",
       "    }\n",
       "</style>\n",
       "<table border=\"1\" class=\"dataframe\">\n",
       "  <thead>\n",
       "    <tr style=\"text-align: right;\">\n",
       "      <th></th>\n",
       "      <th>total_bill</th>\n",
       "      <th>tip</th>\n",
       "      <th>sex</th>\n",
       "      <th>smoker</th>\n",
       "      <th>day</th>\n",
       "      <th>time</th>\n",
       "      <th>size</th>\n",
       "    </tr>\n",
       "  </thead>\n",
       "  <tbody>\n",
       "    <tr>\n",
       "      <th>0</th>\n",
       "      <td>16.99</td>\n",
       "      <td>1.01</td>\n",
       "      <td>Female</td>\n",
       "      <td>No</td>\n",
       "      <td>Sun</td>\n",
       "      <td>Dinner</td>\n",
       "      <td>2</td>\n",
       "    </tr>\n",
       "    <tr>\n",
       "      <th>1</th>\n",
       "      <td>10.34</td>\n",
       "      <td>1.66</td>\n",
       "      <td>Male</td>\n",
       "      <td>No</td>\n",
       "      <td>Sun</td>\n",
       "      <td>Dinner</td>\n",
       "      <td>3</td>\n",
       "    </tr>\n",
       "    <tr>\n",
       "      <th>2</th>\n",
       "      <td>21.01</td>\n",
       "      <td>3.50</td>\n",
       "      <td>Male</td>\n",
       "      <td>No</td>\n",
       "      <td>Sun</td>\n",
       "      <td>Dinner</td>\n",
       "      <td>3</td>\n",
       "    </tr>\n",
       "    <tr>\n",
       "      <th>3</th>\n",
       "      <td>23.68</td>\n",
       "      <td>3.31</td>\n",
       "      <td>Male</td>\n",
       "      <td>No</td>\n",
       "      <td>Sun</td>\n",
       "      <td>Dinner</td>\n",
       "      <td>2</td>\n",
       "    </tr>\n",
       "    <tr>\n",
       "      <th>4</th>\n",
       "      <td>24.59</td>\n",
       "      <td>3.61</td>\n",
       "      <td>Female</td>\n",
       "      <td>No</td>\n",
       "      <td>Sun</td>\n",
       "      <td>Dinner</td>\n",
       "      <td>4</td>\n",
       "    </tr>\n",
       "  </tbody>\n",
       "</table>\n",
       "</div>"
      ],
      "text/plain": [
       "   total_bill   tip     sex smoker  day    time  size\n",
       "0       16.99  1.01  Female     No  Sun  Dinner     2\n",
       "1       10.34  1.66    Male     No  Sun  Dinner     3\n",
       "2       21.01  3.50    Male     No  Sun  Dinner     3\n",
       "3       23.68  3.31    Male     No  Sun  Dinner     2\n",
       "4       24.59  3.61  Female     No  Sun  Dinner     4"
      ]
     },
     "execution_count": 79,
     "metadata": {},
     "output_type": "execute_result"
    }
   ],
   "source": [
    "# loading the data from sns\n",
    "df = sns.load_dataset('tips')\n",
    "df.head()"
   ]
  },
  {
   "cell_type": "code",
   "execution_count": 96,
   "id": "b6a90aec",
   "metadata": {},
   "outputs": [],
   "source": [
    "#group the columns by categorical\n",
    "cat_cols = ['sex', 'smoker', 'day', 'time']\n",
    "\n",
    "#group the columns by numerical columns\n",
    "num_cols = ['total_bill', 'size','price_per_person']"
   ]
  },
  {
   "cell_type": "markdown",
   "id": "fc8a472b",
   "metadata": {},
   "source": [
    "# Create a column named price_per_person. This should be the total bill divided by the party size."
   ]
  },
  {
   "cell_type": "markdown",
   "id": "f20a4758",
   "metadata": {},
   "source": [
    "# creating a new column from `total bill` and `size`\n",
    "df['price_per_person'] = (df.total_bill / df.size)* 1000"
   ]
  },
  {
   "cell_type": "code",
   "execution_count": 81,
   "id": "a2276c45",
   "metadata": {},
   "outputs": [
    {
     "data": {
      "text/html": [
       "<div>\n",
       "<style scoped>\n",
       "    .dataframe tbody tr th:only-of-type {\n",
       "        vertical-align: middle;\n",
       "    }\n",
       "\n",
       "    .dataframe tbody tr th {\n",
       "        vertical-align: top;\n",
       "    }\n",
       "\n",
       "    .dataframe thead th {\n",
       "        text-align: right;\n",
       "    }\n",
       "</style>\n",
       "<table border=\"1\" class=\"dataframe\">\n",
       "  <thead>\n",
       "    <tr style=\"text-align: right;\">\n",
       "      <th></th>\n",
       "      <th>total_bill</th>\n",
       "      <th>tip</th>\n",
       "      <th>sex</th>\n",
       "      <th>smoker</th>\n",
       "      <th>day</th>\n",
       "      <th>time</th>\n",
       "      <th>size</th>\n",
       "      <th>price_per_person</th>\n",
       "    </tr>\n",
       "  </thead>\n",
       "  <tbody>\n",
       "    <tr>\n",
       "      <th>0</th>\n",
       "      <td>16.99</td>\n",
       "      <td>1.01</td>\n",
       "      <td>Female</td>\n",
       "      <td>No</td>\n",
       "      <td>Sun</td>\n",
       "      <td>Dinner</td>\n",
       "      <td>2</td>\n",
       "      <td>9.947307</td>\n",
       "    </tr>\n",
       "    <tr>\n",
       "      <th>1</th>\n",
       "      <td>10.34</td>\n",
       "      <td>1.66</td>\n",
       "      <td>Male</td>\n",
       "      <td>No</td>\n",
       "      <td>Sun</td>\n",
       "      <td>Dinner</td>\n",
       "      <td>3</td>\n",
       "      <td>6.053864</td>\n",
       "    </tr>\n",
       "    <tr>\n",
       "      <th>2</th>\n",
       "      <td>21.01</td>\n",
       "      <td>3.50</td>\n",
       "      <td>Male</td>\n",
       "      <td>No</td>\n",
       "      <td>Sun</td>\n",
       "      <td>Dinner</td>\n",
       "      <td>3</td>\n",
       "      <td>12.300937</td>\n",
       "    </tr>\n",
       "    <tr>\n",
       "      <th>3</th>\n",
       "      <td>23.68</td>\n",
       "      <td>3.31</td>\n",
       "      <td>Male</td>\n",
       "      <td>No</td>\n",
       "      <td>Sun</td>\n",
       "      <td>Dinner</td>\n",
       "      <td>2</td>\n",
       "      <td>13.864169</td>\n",
       "    </tr>\n",
       "    <tr>\n",
       "      <th>4</th>\n",
       "      <td>24.59</td>\n",
       "      <td>3.61</td>\n",
       "      <td>Female</td>\n",
       "      <td>No</td>\n",
       "      <td>Sun</td>\n",
       "      <td>Dinner</td>\n",
       "      <td>4</td>\n",
       "      <td>14.396956</td>\n",
       "    </tr>\n",
       "  </tbody>\n",
       "</table>\n",
       "</div>"
      ],
      "text/plain": [
       "   total_bill   tip     sex smoker  day    time  size  price_per_person\n",
       "0       16.99  1.01  Female     No  Sun  Dinner     2          9.947307\n",
       "1       10.34  1.66    Male     No  Sun  Dinner     3          6.053864\n",
       "2       21.01  3.50    Male     No  Sun  Dinner     3         12.300937\n",
       "3       23.68  3.31    Male     No  Sun  Dinner     2         13.864169\n",
       "4       24.59  3.61  Female     No  Sun  Dinner     4         14.396956"
      ]
     },
     "execution_count": 81,
     "metadata": {},
     "output_type": "execute_result"
    }
   ],
   "source": [
    "df.head()"
   ]
  },
  {
   "cell_type": "markdown",
   "id": "3b9b8ea0",
   "metadata": {},
   "source": [
    "# Before using any of the methods discussed in the lesson, which features do you think would be most important for predicting the tip amount?"
   ]
  },
  {
   "cell_type": "code",
   "execution_count": 98,
   "id": "e03fb4a6",
   "metadata": {},
   "outputs": [
    {
     "data": {
      "text/html": [
       "<div>\n",
       "<style scoped>\n",
       "    .dataframe tbody tr th:only-of-type {\n",
       "        vertical-align: middle;\n",
       "    }\n",
       "\n",
       "    .dataframe tbody tr th {\n",
       "        vertical-align: top;\n",
       "    }\n",
       "\n",
       "    .dataframe thead th {\n",
       "        text-align: right;\n",
       "    }\n",
       "</style>\n",
       "<table border=\"1\" class=\"dataframe\">\n",
       "  <thead>\n",
       "    <tr style=\"text-align: right;\">\n",
       "      <th></th>\n",
       "      <th>total_bill</th>\n",
       "      <th>tip</th>\n",
       "      <th>size</th>\n",
       "      <th>price_per_person</th>\n",
       "    </tr>\n",
       "  </thead>\n",
       "  <tbody>\n",
       "    <tr>\n",
       "      <th>total_bill</th>\n",
       "      <td>1.000000</td>\n",
       "      <td>0.675734</td>\n",
       "      <td>0.598315</td>\n",
       "      <td>1.000000</td>\n",
       "    </tr>\n",
       "    <tr>\n",
       "      <th>tip</th>\n",
       "      <td>0.675734</td>\n",
       "      <td>1.000000</td>\n",
       "      <td>0.489299</td>\n",
       "      <td>0.675734</td>\n",
       "    </tr>\n",
       "    <tr>\n",
       "      <th>size</th>\n",
       "      <td>0.598315</td>\n",
       "      <td>0.489299</td>\n",
       "      <td>1.000000</td>\n",
       "      <td>0.598315</td>\n",
       "    </tr>\n",
       "    <tr>\n",
       "      <th>price_per_person</th>\n",
       "      <td>1.000000</td>\n",
       "      <td>0.675734</td>\n",
       "      <td>0.598315</td>\n",
       "      <td>1.000000</td>\n",
       "    </tr>\n",
       "  </tbody>\n",
       "</table>\n",
       "</div>"
      ],
      "text/plain": [
       "                  total_bill       tip      size  price_per_person\n",
       "total_bill          1.000000  0.675734  0.598315          1.000000\n",
       "tip                 0.675734  1.000000  0.489299          0.675734\n",
       "size                0.598315  0.489299  1.000000          0.598315\n",
       "price_per_person    1.000000  0.675734  0.598315          1.000000"
      ]
     },
     "execution_count": 98,
     "metadata": {},
     "output_type": "execute_result"
    }
   ],
   "source": [
    "df.corr()"
   ]
  },
  {
   "cell_type": "markdown",
   "id": "923d7794",
   "metadata": {},
   "source": [
    "# I think that `total_bill`, `price_per_person`, and `sex` will determine the tip amount"
   ]
  },
  {
   "cell_type": "markdown",
   "id": "8b3fc16b",
   "metadata": {},
   "source": [
    "# Use select k best to select the top 2 features for predicting tip amount. What are they?"
   ]
  },
  {
   "cell_type": "code",
   "execution_count": 82,
   "id": "856d9cf0",
   "metadata": {},
   "outputs": [],
   "source": [
    "# for the purpose of this exercise im not going to split my data"
   ]
  },
  {
   "cell_type": "code",
   "execution_count": 134,
   "id": "a7f683a4",
   "metadata": {},
   "outputs": [],
   "source": [
    "# df split\n",
    "x_data = df[num_cols]\n",
    "y_data = df['tip']"
   ]
  },
  {
   "cell_type": "code",
   "execution_count": 177,
   "id": "f43a7f38",
   "metadata": {},
   "outputs": [],
   "source": [
    "# initialize object\n",
    "f_selector = SelectKBest(f_regression, k=1)"
   ]
  },
  {
   "cell_type": "code",
   "execution_count": 178,
   "id": "e6aa7326",
   "metadata": {},
   "outputs": [],
   "source": [
    "# fit the object"
   ]
  },
  {
   "cell_type": "code",
   "execution_count": 179,
   "id": "5b4dc335",
   "metadata": {},
   "outputs": [
    {
     "data": {
      "text/plain": [
       "SelectKBest(k=1, score_func=<function f_regression at 0x7fdacb82b3a0>)"
      ]
     },
     "execution_count": 179,
     "metadata": {},
     "output_type": "execute_result"
    }
   ],
   "source": [
    "f_selector.fit(x_data,y_data)"
   ]
  },
  {
   "cell_type": "code",
   "execution_count": 180,
   "id": "8f0278e2",
   "metadata": {},
   "outputs": [
    {
     "data": {
      "text/plain": [
       "Index(['total_bill'], dtype='object')"
      ]
     },
     "execution_count": 180,
     "metadata": {},
     "output_type": "execute_result"
    }
   ],
   "source": [
    "# look at what the 2 best ones were\n",
    "x_data.columns[f_selector.get_support()]"
   ]
  },
  {
   "cell_type": "markdown",
   "id": "a3de03d4",
   "metadata": {},
   "source": [
    "## `total_bill` and `price_per_person` where the 2 best features"
   ]
  },
  {
   "cell_type": "markdown",
   "id": "5b9dbf33",
   "metadata": {},
   "source": [
    "# Use recursive feature elimination to select the top 2 features for tip amount. What are they?"
   ]
  },
  {
   "cell_type": "code",
   "execution_count": 137,
   "id": "acae08dc",
   "metadata": {},
   "outputs": [],
   "source": [
    "# initializing object\n",
    "lm = LinearRegression() "
   ]
  },
  {
   "cell_type": "code",
   "execution_count": 173,
   "id": "b82ea2b3",
   "metadata": {},
   "outputs": [],
   "source": [
    "# initialize the RFE to our data.\n",
    "rfe = RFE(lm, n_features_to_select = 1)"
   ]
  },
  {
   "cell_type": "code",
   "execution_count": 174,
   "id": "4a399f87",
   "metadata": {},
   "outputs": [
    {
     "data": {
      "text/plain": [
       "RFE(estimator=LinearRegression(), n_features_to_select=1)"
      ]
     },
     "execution_count": 174,
     "metadata": {},
     "output_type": "execute_result"
    }
   ],
   "source": [
    "# fit data\n",
    "rfe.fit(x_data, y_data)"
   ]
  },
  {
   "cell_type": "code",
   "execution_count": 175,
   "id": "51072eaa",
   "metadata": {},
   "outputs": [],
   "source": [
    "# take x_data and returns rfe support into a list\n",
    "rfe_feats = x_data.columns[rfe.support_].tolist()"
   ]
  },
  {
   "cell_type": "code",
   "execution_count": 176,
   "id": "b8c752fa",
   "metadata": {},
   "outputs": [
    {
     "data": {
      "text/plain": [
       "['price_per_person']"
      ]
     },
     "execution_count": 176,
     "metadata": {},
     "output_type": "execute_result"
    }
   ],
   "source": [
    "#call the variable\n",
    "rfe_feats"
   ]
  },
  {
   "cell_type": "markdown",
   "id": "bc242c0a",
   "metadata": {},
   "source": [
    "# Why do you think select k best and recursive feature elimination might give different answers for the top features? Does this change as you change the number of features you are selecting?"
   ]
  },
  {
   "cell_type": "markdown",
   "id": "ad9717cf",
   "metadata": {},
   "source": [
    " ### the only time it changed was when i changed feature numbers. kbest chose `total bill` but rfe chose `price per person`"
   ]
  },
  {
   "cell_type": "markdown",
   "id": "42cc6751",
   "metadata": {},
   "source": [
    "# Write a function named select_kbest that takes in the predictors (X), the target (y), and the number of features to select (k) and returns the names of the top k selected features based on the SelectKBest class. Test your function with the tips dataset. You should see the same results as when you did the process manually."
   ]
  },
  {
   "cell_type": "code",
   "execution_count": 184,
   "id": "8f9cc5c9",
   "metadata": {},
   "outputs": [],
   "source": [
    "tips = df.copy()"
   ]
  },
  {
   "cell_type": "code",
   "execution_count": 194,
   "id": "55c91b80",
   "metadata": {},
   "outputs": [],
   "source": [
    "def select_kbest(predictors,target,num_of_feats):\n",
    "    \n",
    "    # initializing kbest object\n",
    "    f_selector = SelectKBest(f_regression,k = num_of_feats)\n",
    "    \n",
    "    # fitting \n",
    "    f_selector.fit(predictors,target)\n",
    "    \n",
    "    #creating a mask of support features\n",
    "    feat_mask = f_selector.get_support()\n",
    "    \n",
    "    # return \n",
    "    return predictors.columns[feat_mask]\n",
    "    "
   ]
  },
  {
   "cell_type": "code",
   "execution_count": 195,
   "id": "48f27528",
   "metadata": {},
   "outputs": [
    {
     "data": {
      "text/plain": [
       "Index(['total_bill', 'price_per_person'], dtype='object')"
      ]
     },
     "execution_count": 195,
     "metadata": {},
     "output_type": "execute_result"
    }
   ],
   "source": [
    "select_kbest(x_data,y_data,2)"
   ]
  },
  {
   "cell_type": "markdown",
   "id": "1653fa97",
   "metadata": {},
   "source": [
    "# Write a function named rfe that takes in the predictors, the target, and the number of features to select. It should return the top k features based on the RFE class. Test your function with the tips dataset. You should see the same results as when you did the process manually."
   ]
  },
  {
   "cell_type": "code",
   "execution_count": 228,
   "id": "18fe741d",
   "metadata": {},
   "outputs": [],
   "source": [
    "def select_rfe(predictors,target,num_of_feats):\n",
    "    \n",
    "    # initializing kbest object\n",
    "    lm = LinearRegression() \n",
    "    \n",
    "    # initialize the RFE to our data.\n",
    "    rfe = RFE(lm, n_features_to_select = num_of_feats)\n",
    "    \n",
    "    # fit data\n",
    "    rfe.fit(predictors, target)\n",
    "  \n",
    "    # take x_data and returns rfe support into a list\n",
    "    rfe_feats = predictors.columns[rfe.support_].tolist()\n",
    "    \n",
    "    # return \n",
    "    return rfe_feats\n",
    "    "
   ]
  },
  {
   "cell_type": "code",
   "execution_count": 229,
   "id": "a8534b0c",
   "metadata": {},
   "outputs": [
    {
     "data": {
      "text/plain": [
       "['total_bill', 'price_per_person']"
      ]
     },
     "execution_count": 229,
     "metadata": {},
     "output_type": "execute_result"
    }
   ],
   "source": [
    "select_rfe(x_data,y_data,2)"
   ]
  },
  {
   "cell_type": "markdown",
   "id": "cb552d5c",
   "metadata": {},
   "source": [
    "# Load the swiss dataset and use all the other features to predict Fertility. Find the top 3 features using both select k best and recursive feature elimination (use the functions you just built to help you out)."
   ]
  },
  {
   "cell_type": "code",
   "execution_count": 210,
   "id": "0aa324c2",
   "metadata": {},
   "outputs": [],
   "source": [
    "from pydataset import data\n"
   ]
  },
  {
   "cell_type": "code",
   "execution_count": 211,
   "id": "6ca7ccf2",
   "metadata": {},
   "outputs": [],
   "source": [
    "swiss = data('swiss')"
   ]
  },
  {
   "cell_type": "code",
   "execution_count": 216,
   "id": "68c2da30",
   "metadata": {},
   "outputs": [
    {
     "data": {
      "text/html": [
       "<div>\n",
       "<style scoped>\n",
       "    .dataframe tbody tr th:only-of-type {\n",
       "        vertical-align: middle;\n",
       "    }\n",
       "\n",
       "    .dataframe tbody tr th {\n",
       "        vertical-align: top;\n",
       "    }\n",
       "\n",
       "    .dataframe thead th {\n",
       "        text-align: right;\n",
       "    }\n",
       "</style>\n",
       "<table border=\"1\" class=\"dataframe\">\n",
       "  <thead>\n",
       "    <tr style=\"text-align: right;\">\n",
       "      <th></th>\n",
       "      <th>Fertility</th>\n",
       "      <th>Agriculture</th>\n",
       "      <th>Examination</th>\n",
       "      <th>Education</th>\n",
       "      <th>Catholic</th>\n",
       "      <th>Infant.Mortality</th>\n",
       "    </tr>\n",
       "  </thead>\n",
       "  <tbody>\n",
       "    <tr>\n",
       "      <th>Courtelary</th>\n",
       "      <td>80.2</td>\n",
       "      <td>17.0</td>\n",
       "      <td>15</td>\n",
       "      <td>12</td>\n",
       "      <td>9.96</td>\n",
       "      <td>22.2</td>\n",
       "    </tr>\n",
       "    <tr>\n",
       "      <th>Delemont</th>\n",
       "      <td>83.1</td>\n",
       "      <td>45.1</td>\n",
       "      <td>6</td>\n",
       "      <td>9</td>\n",
       "      <td>84.84</td>\n",
       "      <td>22.2</td>\n",
       "    </tr>\n",
       "    <tr>\n",
       "      <th>Franches-Mnt</th>\n",
       "      <td>92.5</td>\n",
       "      <td>39.7</td>\n",
       "      <td>5</td>\n",
       "      <td>5</td>\n",
       "      <td>93.40</td>\n",
       "      <td>20.2</td>\n",
       "    </tr>\n",
       "    <tr>\n",
       "      <th>Moutier</th>\n",
       "      <td>85.8</td>\n",
       "      <td>36.5</td>\n",
       "      <td>12</td>\n",
       "      <td>7</td>\n",
       "      <td>33.77</td>\n",
       "      <td>20.3</td>\n",
       "    </tr>\n",
       "    <tr>\n",
       "      <th>Neuveville</th>\n",
       "      <td>76.9</td>\n",
       "      <td>43.5</td>\n",
       "      <td>17</td>\n",
       "      <td>15</td>\n",
       "      <td>5.16</td>\n",
       "      <td>20.6</td>\n",
       "    </tr>\n",
       "  </tbody>\n",
       "</table>\n",
       "</div>"
      ],
      "text/plain": [
       "              Fertility  Agriculture  Examination  Education  Catholic  \\\n",
       "Courtelary         80.2         17.0           15         12      9.96   \n",
       "Delemont           83.1         45.1            6          9     84.84   \n",
       "Franches-Mnt       92.5         39.7            5          5     93.40   \n",
       "Moutier            85.8         36.5           12          7     33.77   \n",
       "Neuveville         76.9         43.5           17         15      5.16   \n",
       "\n",
       "              Infant.Mortality  \n",
       "Courtelary                22.2  \n",
       "Delemont                  22.2  \n",
       "Franches-Mnt              20.2  \n",
       "Moutier                   20.3  \n",
       "Neuveville                20.6  "
      ]
     },
     "execution_count": 216,
     "metadata": {},
     "output_type": "execute_result"
    }
   ],
   "source": [
    "swiss.head()"
   ]
  },
  {
   "cell_type": "code",
   "execution_count": null,
   "id": "0f1ad16d",
   "metadata": {},
   "outputs": [],
   "source": []
  },
  {
   "cell_type": "code",
   "execution_count": 218,
   "id": "a9f2db0e",
   "metadata": {},
   "outputs": [],
   "source": [
    "# df split\n",
    "x_train = swiss.drop(columns = 'Fertility')\n",
    "y_train = swiss['Fertility']"
   ]
  },
  {
   "cell_type": "markdown",
   "id": "6135e47e",
   "metadata": {},
   "source": [
    "## Select kbest "
   ]
  },
  {
   "cell_type": "code",
   "execution_count": 223,
   "id": "9a744cf9",
   "metadata": {},
   "outputs": [
    {
     "data": {
      "text/plain": [
       "Index(['Examination', 'Education', 'Catholic'], dtype='object')"
      ]
     },
     "execution_count": 223,
     "metadata": {},
     "output_type": "execute_result"
    }
   ],
   "source": [
    "select_kbest(x_train,y_train,3)"
   ]
  },
  {
   "cell_type": "markdown",
   "id": "eb25519b",
   "metadata": {},
   "source": [
    "## select rfe"
   ]
  },
  {
   "cell_type": "code",
   "execution_count": 230,
   "id": "077ee719",
   "metadata": {},
   "outputs": [
    {
     "data": {
      "text/plain": [
       "['Examination', 'Education', 'Infant.Mortality']"
      ]
     },
     "execution_count": 230,
     "metadata": {},
     "output_type": "execute_result"
    }
   ],
   "source": [
    "select_rfe(x_train,y_train,3)"
   ]
  },
  {
   "cell_type": "code",
   "execution_count": null,
   "id": "f64d8fdd",
   "metadata": {},
   "outputs": [],
   "source": []
  }
 ],
 "metadata": {
  "kernelspec": {
   "display_name": "Python 3 (ipykernel)",
   "language": "python",
   "name": "python3"
  },
  "language_info": {
   "codemirror_mode": {
    "name": "ipython",
    "version": 3
   },
   "file_extension": ".py",
   "mimetype": "text/x-python",
   "name": "python",
   "nbconvert_exporter": "python",
   "pygments_lexer": "ipython3",
   "version": "3.9.13"
  },
  "toc": {
   "base_numbering": 1,
   "nav_menu": {},
   "number_sections": true,
   "sideBar": true,
   "skip_h1_title": false,
   "title_cell": "Table of Contents",
   "title_sidebar": "Contents",
   "toc_cell": false,
   "toc_position": {},
   "toc_section_display": true,
   "toc_window_display": false
  }
 },
 "nbformat": 4,
 "nbformat_minor": 5
}
